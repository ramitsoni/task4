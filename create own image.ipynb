{
 "cells": [
  {
   "cell_type": "code",
   "execution_count": 1,
   "id": "84fe1851",
   "metadata": {},
   "outputs": [],
   "source": [
    "# create own image"
   ]
  },
  {
   "cell_type": "code",
   "execution_count": 2,
   "id": "14dcb226",
   "metadata": {},
   "outputs": [],
   "source": [
    "import cv2\n",
    "import numpy as np"
   ]
  },
  {
   "cell_type": "code",
   "execution_count": 3,
   "id": "a7ee5c3b",
   "metadata": {},
   "outputs": [],
   "source": [
    "img = np.zeros((300,400,3))\n",
    "l1 = cv2.rectangle(img, (10,10), (390,290), [0,255,255], 1)\n",
    "l2 = cv2.line(l1,(150,150),(250,150),[0,255,0],1)\n",
    "l3 = cv2.line(l2,(200,190),(200,100),[0,255,0],1)\n",
    "l4 = cv2.circle(l3, (30,30), 5,[0,255,0],-1,1)\n",
    "l5 = cv2.putText(l4,\"Rec\",(40,30),cv2.FONT_HERSHEY_COMPLEX_SMALL,1,[0,255,0])"
   ]
  },
  {
   "cell_type": "code",
   "execution_count": 4,
   "id": "a408861a",
   "metadata": {},
   "outputs": [],
   "source": [
    "cv2.imshow('rec', l5)\n",
    "cv2.waitKey()\n",
    "cv2.destroyAllWindows()"
   ]
  },
  {
   "cell_type": "code",
   "execution_count": null,
   "id": "506878c0",
   "metadata": {},
   "outputs": [],
   "source": []
  }
 ],
 "metadata": {
  "kernelspec": {
   "display_name": "Python 3",
   "language": "python",
   "name": "python3"
  },
  "language_info": {
   "codemirror_mode": {
    "name": "ipython",
    "version": 3
   },
   "file_extension": ".py",
   "mimetype": "text/x-python",
   "name": "python",
   "nbconvert_exporter": "python",
   "pygments_lexer": "ipython3",
   "version": "3.8.8"
  }
 },
 "nbformat": 4,
 "nbformat_minor": 5
}
