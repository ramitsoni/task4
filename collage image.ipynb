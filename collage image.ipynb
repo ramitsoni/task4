{
 "cells": [
  {
   "cell_type": "code",
   "execution_count": 1,
   "id": "16e198b6",
   "metadata": {},
   "outputs": [],
   "source": [
    "#collage image"
   ]
  },
  {
   "cell_type": "code",
   "execution_count": 2,
   "id": "140892d1",
   "metadata": {},
   "outputs": [],
   "source": [
    "import cv2\n",
    "import numpy as np"
   ]
  },
  {
   "cell_type": "code",
   "execution_count": 3,
   "id": "6d148e8c",
   "metadata": {},
   "outputs": [],
   "source": [
    "#combine the Image\n",
    "\n",
    "galaxy = cv2.imread('milky-way-earth-location.jpg')\n",
    "Earth = cv2.imread(\"unnamed.png\")\n",
    "\n",
    "resize_galaxy = cv2.resize(galaxy,(400,400))\n",
    "resize_Earth = cv2.resize(Earth,(400,400))\n",
    "\n",
    "\n",
    "final_photo = np.hstack((resize_galaxy,resize_Earth))"
   ]
  },
  {
   "cell_type": "code",
   "execution_count": 4,
   "id": "19e3f027",
   "metadata": {},
   "outputs": [],
   "source": [
    "#first photo\n",
    "cv2.imshow('rec', galaxy )\n",
    "cv2.waitKey()\n",
    "cv2.destroyAllWindows()"
   ]
  },
  {
   "cell_type": "code",
   "execution_count": 5,
   "id": "7730fcbc",
   "metadata": {},
   "outputs": [],
   "source": [
    "#second photo\n",
    "cv2.imshow('rec', Earth)\n",
    "cv2.waitKey()\n",
    "cv2.destroyAllWindows()"
   ]
  },
  {
   "cell_type": "code",
   "execution_count": 6,
   "id": "a5be1a4a",
   "metadata": {},
   "outputs": [],
   "source": [
    "cv2.imshow('rec', final_photo)\n",
    "cv2.waitKey()\n",
    "cv2.destroyAllWindows()"
   ]
  },
  {
   "cell_type": "code",
   "execution_count": null,
   "id": "003551e6",
   "metadata": {},
   "outputs": [],
   "source": []
  }
 ],
 "metadata": {
  "kernelspec": {
   "display_name": "Python 3",
   "language": "python",
   "name": "python3"
  },
  "language_info": {
   "codemirror_mode": {
    "name": "ipython",
    "version": 3
   },
   "file_extension": ".py",
   "mimetype": "text/x-python",
   "name": "python",
   "nbconvert_exporter": "python",
   "pygments_lexer": "ipython3",
   "version": "3.8.8"
  }
 },
 "nbformat": 4,
 "nbformat_minor": 5
}
